{
 "cells": [
  {
   "cell_type": "markdown",
   "metadata": {},
   "source": [
    "# EE603 Coding Assignment\n",
    "- Use python3\n",
    "- Submit your \"rendered\" ipynb, i.e., with outputs of codes (plots and printed values) visible below\n",
    "- Do not change the return variables, as the evaluation is done by test cases based on the variables specified. Only add your code at \"### WRITE YOUR CODE HERE\"\n",
    "- Use only numpy and librosa library for computing and signal processing, no other package allowed\n",
    "- If you are using your mobile phone, you can use colab.research.google.com for coding\n",
    "- Do not define multiple functions using same name. We will be using eval.py to auto evaluate your codes. Please check with sample test cases before submitting. We will share the evaluation test cases with you after the submission deadline.\n",
    "- While submitting this file, change file name from 'YourRollNo.ipynb' to your actual roll no (Eg. 18204279.ipynb)"
   ]
  },
  {
   "cell_type": "code",
   "execution_count": 1,
   "metadata": {},
   "outputs": [
    {
     "name": "stderr",
     "output_type": "stream",
     "text": [
      "/home/rbaijal/.local/lib/python3.6/site-packages/numba/core/errors.py:154: UserWarning: Insufficiently recent colorama version found. Numba requires colorama >= 0.3.9\n",
      "  warnings.warn(msg)\n"
     ]
    }
   ],
   "source": [
    "import numpy as np\n",
    "import matplotlib.pyplot as plt\n",
    "import librosa\n",
    "import torch\n",
    "import torch.nn as nn\n",
    "import torch.nn.functional as F\n",
    "# from audio_proc_utils import *"
   ]
  },
  {
   "cell_type": "code",
   "execution_count": 2,
   "metadata": {},
   "outputs": [],
   "source": [
    "import glob\n",
    "def readDir(dirname, Fs = 22050):\n",
    "    \n",
    "    '''\n",
    "    Each audio clip should be upto 10s long; split larger audio files into many clips (non-overlapping) \n",
    "\n",
    "    Use load_audio(file) \n",
    "    \n",
    "    Inputs: \n",
    "        dirname: (str) directory name\n",
    "        Fs: (int) sampling rate\n",
    "    Output: \n",
    "        x: np arrays of shape (Nclips, Nsamples) Nsamples correspond to 10s length. Use zero-padding for shorter clips.\n",
    "    '''  \n",
    "\n",
    "\n",
    "    ### WRITE YOUR CODE HERE - 5 MARKS\n",
    "    required_duration = 10\n",
    "    x = np.zeros(required_duration*Fs)\n",
    "    \n",
    "    for path in glob.iglob(f'{dirname}/*.wav'):\n",
    "        audio = load_audio(path, Fs)\n",
    "        num_per_clip = Fs*required_duration   # Number of point samples for 10s audio clip\n",
    "        N = (int)(audio.shape[0]/num_per_clip)\n",
    "        for i in range(0, N):\n",
    "            x = np.vstack((x, audio[i*num_per_clip : (i+1)*num_per_clip]))\n",
    "         \n",
    "        # Last audio sample must be zero padded\n",
    "        if(audio.shape[0]%num_per_clip != 0):\n",
    "            seq = audio[N*num_per_clip:]\n",
    "            seq = librosa.util.fix_length(seq, required_duration*Fs)\n",
    "            x = np.vstack((x, seq))\n",
    "\n",
    "    # We need to skip the initial zero array which was added for convenience\n",
    "    x = x[1:, :]           # Nclips x Nsamples\n",
    "    \n",
    "    return x "
   ]
  },
  {
   "cell_type": "code",
   "execution_count": 3,
   "metadata": {},
   "outputs": [],
   "source": [
    "def load_audio(filename, Fs = 22050):\n",
    "    '''\n",
    "    Inputs: \n",
    "        filename: (str) filename\n",
    "        Fs: (int) sampling rate\n",
    "    Output: \n",
    "        x: 1D np array \n",
    "    '''\n",
    "    \n",
    "\n",
    "    ### WRITE YOUR CODE HERE - 2 MARKS\n",
    "    x, sr = librosa.load(filename, sr=Fs)\n",
    "    \n",
    "    return x"
   ]
  },
  {
   "cell_type": "code",
   "execution_count": 4,
   "metadata": {},
   "outputs": [],
   "source": [
    "def splitData(X, t, testFraction=0.2, randomize = False):\n",
    "    \"\"\"\n",
    "    Split the data randomly into training and test sets\n",
    "    Use numpy functions only\n",
    "    Inputs:\n",
    "        X: (np array of len Nclips) input feature vectors\n",
    "        t: (np array of len Nclips) targets; one hot vectors\n",
    "        testFraction: (float) Nclips_test = testFraction * Nclips\n",
    "    Outputs:\n",
    "        X_train: training set\n",
    "        X_test: test set\n",
    "        t_train: training labels\n",
    "        t_test: test labels\n",
    "    \"\"\"\n",
    "\n",
    "\n",
    "    ### WRITE YOUR CODE HERE - 5 MARKS\n",
    "    np.random.seed(0)\n",
    "    test_size = (int)(testFraction * X.shape[0])\n",
    "    indices = np.random.permutation(X.shape[0])\n",
    "    training_index, test_index = indices[:X.shape[0] - test_size], indices[X.shape[0] - test_size:]\n",
    "    X_train, t_train = X[training_index, :], t[training_index, :]\n",
    "    X_test, t_test = X[test_index, :], t[test_index, :]\n",
    "\n",
    "    return X_train, t_train, X_test, t_test"
   ]
  },
  {
   "cell_type": "code",
   "execution_count": 5,
   "metadata": {},
   "outputs": [],
   "source": [
    "def audio2mfcc(x, n_mfcc = 13, Fs = 22050):\n",
    "    \n",
    "    '''\n",
    "    Compute Mel-frequency cepstral coefficients (MFCCs)\n",
    "    Inputs:\n",
    "        x: np array of shape (Nclips,)\n",
    "        Fs: (int) sampling rate\n",
    "        n_mfcc: (int) number of MFCC features\n",
    "    Output:\n",
    "        X: (np array) MFCC sequence\n",
    "    '''\n",
    "\n",
    "    ### WRITE YOUR CODE HERE - 3 MARKS\n",
    "    X = []\n",
    "    for i in range(len(x)):\n",
    "        mfccs = librosa.feature.mfcc(y=x[i], sr=Fs, n_mfcc=n_mfcc, hop_length=512)\n",
    "        X.append(mfccs)\n",
    "            \n",
    "#     X = np.concatenate(X)\n",
    "    X = np.stack(X, axis=0) # 3D array => Nsample 2D arrays of MFCCs\n",
    "#     print(\"mfcc feat : \", X.shape)\n",
    "\n",
    "    return X                # (Nclips, N_mfcc, N_frames)"
   ]
  },
  {
   "cell_type": "code",
   "execution_count": 6,
   "metadata": {},
   "outputs": [],
   "source": [
    "class NeuralNetwork(nn.Module):\n",
    "    def __init__(self, input_size=20, output_size=3):\n",
    "        super().__init__()\n",
    "        self.fc1 = nn.Linear(input_size, 16).double()\n",
    "        self.fc2 = nn.Linear(16,8).double()\n",
    "        self.fc3 = nn.Linear(8, output_size).double()\n",
    "        \n",
    "    def forward(self,X):\n",
    "        X = F.relu(self.fc1(X))\n",
    "        X = F.relu(self.fc2(X))\n",
    "#         X = F.relu(self.fc3(X))\n",
    "        X = self.fc3(X)\n",
    "        return F.softmax(X, dim=1)\n",
    "        "
   ]
  },
  {
   "cell_type": "code",
   "execution_count": 7,
   "metadata": {},
   "outputs": [],
   "source": [
    "Fs= 16000\n",
    "n_mfcc = 20\n",
    "\n",
    "# Read audio\n",
    "x_music = readDir('music_speech/music_wav', Fs)    #change it as per your directory\n",
    "x_speech = readDir('music_speech/speech_wav', Fs)  #change it as per your directory\n",
    "x_silence = readDir('music_speech/silence_wav', Fs)\n",
    "X = np.concatenate((x_music, x_speech, x_silence))\n",
    "\n",
    "# Create labels\n",
    "y_music = np.array([[1,0,0]]*len(x_music))\n",
    "y_speech = np.array([[0,1,0]]*len(x_speech))\n",
    "y_silence = np.array([[0,0,1]]*len(x_silence))\n",
    "Y = np.concatenate((y_music, y_speech, y_silence))\n",
    "\n",
    "X_train, y_train, X_test, y_test = splitData(X, Y)"
   ]
  },
  {
   "cell_type": "code",
   "execution_count": 8,
   "metadata": {},
   "outputs": [
    {
     "data": {
      "text/plain": [
       "((484, 3), (120, 3))"
      ]
     },
     "execution_count": 8,
     "metadata": {},
     "output_type": "execute_result"
    }
   ],
   "source": [
    "y_train.shape, y_test.shape\n",
    "# len(x_music)"
   ]
  },
  {
   "cell_type": "code",
   "execution_count": 9,
   "metadata": {},
   "outputs": [],
   "source": [
    "x_train = audio2mfcc(X_train, n_mfcc, Fs)    # x_train: (Nclips, N_mfcc, N_frames)"
   ]
  },
  {
   "cell_type": "code",
   "execution_count": 10,
   "metadata": {},
   "outputs": [
    {
     "data": {
      "text/plain": [
       "array([-3.62404810e+02, -9.59441690e+00,  1.92484050e+00,  3.29801755e+00,\n",
       "        5.03028112e+00,  4.32729956e+00,  1.50348919e+00, -2.32773538e+00,\n",
       "       -8.00684000e-01,  6.42092386e+00,  6.60659223e-01, -5.11414101e-02,\n",
       "        2.22370958e-01, -6.04568005e-01,  4.21715555e+00,  2.16409594e+00,\n",
       "        5.54843932e+00,  8.48662229e+00,  3.39078507e+00, -2.16044697e+00])"
      ]
     },
     "execution_count": 10,
     "metadata": {},
     "output_type": "execute_result"
    }
   ],
   "source": [
    "x_train[0, :, 0]"
   ]
  },
  {
   "cell_type": "code",
   "execution_count": 11,
   "metadata": {},
   "outputs": [],
   "source": [
    "x_train = torch.from_numpy(x_train)"
   ]
  },
  {
   "cell_type": "code",
   "execution_count": 12,
   "metadata": {},
   "outputs": [],
   "source": [
    "y_train = torch.from_numpy(y_train)"
   ]
  },
  {
   "cell_type": "code",
   "execution_count": 13,
   "metadata": {},
   "outputs": [],
   "source": [
    "x_test = audio2mfcc(X_test, n_mfcc, Fs) "
   ]
  },
  {
   "cell_type": "code",
   "execution_count": 14,
   "metadata": {},
   "outputs": [],
   "source": [
    "x_test = torch.from_numpy(x_test)"
   ]
  },
  {
   "cell_type": "code",
   "execution_count": 15,
   "metadata": {},
   "outputs": [],
   "source": [
    "y_test = torch.from_numpy(y_test)"
   ]
  },
  {
   "cell_type": "code",
   "execution_count": 16,
   "metadata": {},
   "outputs": [],
   "source": [
    "torch.manual_seed(0)\n",
    "model = NeuralNetwork()"
   ]
  },
  {
   "cell_type": "code",
   "execution_count": 17,
   "metadata": {},
   "outputs": [
    {
     "name": "stdout",
     "output_type": "stream",
     "text": [
      "torch.Size([484, 20, 313])\n",
      "torch.Size([484, 313, 20])\n"
     ]
    }
   ],
   "source": [
    "print(x_train.shape)\n",
    "x_train = x_train.permute(0,2,1)\n",
    "# x = x.permute(1,0)\n",
    "print(x_train.shape)\n",
    "x_train = x_train.type(torch.DoubleTensor)"
   ]
  },
  {
   "cell_type": "code",
   "execution_count": 18,
   "metadata": {},
   "outputs": [],
   "source": [
    "criterion = nn.CrossEntropyLoss()\n",
    "optimizer = torch.optim.Adam(model.parameters(), lr=0.001)"
   ]
  },
  {
   "cell_type": "code",
   "execution_count": 19,
   "metadata": {},
   "outputs": [],
   "source": [
    "y_pred = model(x_train[0])"
   ]
  },
  {
   "cell_type": "code",
   "execution_count": 20,
   "metadata": {},
   "outputs": [
    {
     "data": {
      "text/plain": [
       "tensor([[0, 0, 1],\n",
       "        [0, 0, 1],\n",
       "        [0, 0, 1],\n",
       "        [0, 0, 1],\n",
       "        [0, 0, 1]])"
      ]
     },
     "execution_count": 20,
     "metadata": {},
     "output_type": "execute_result"
    }
   ],
   "source": [
    "y = y_train[0].repeat(5,1)\n",
    "y"
   ]
  },
  {
   "cell_type": "code",
   "execution_count": 21,
   "metadata": {},
   "outputs": [],
   "source": [
    "y1 = torch.max(y_pred.data, 1)[1]"
   ]
  },
  {
   "cell_type": "code",
   "execution_count": 22,
   "metadata": {},
   "outputs": [
    {
     "data": {
      "text/plain": [
       "tensor([1, 1, 1, 1, 1, 1, 1, 1, 1, 1, 1, 1, 1, 1, 1, 1, 1, 1, 1, 1, 1, 1, 1, 1,\n",
       "        1, 1, 1, 1, 1, 1, 1, 1, 1, 1, 1, 1, 1, 1, 1, 1, 1, 1, 1, 1, 1, 1, 1, 1,\n",
       "        1, 1, 1, 1, 1, 1, 1, 1, 1, 1, 1, 1, 1, 1, 1, 1, 1, 1, 1, 1, 1, 1, 1, 1,\n",
       "        1, 1, 1, 1, 1, 1, 1, 1, 1, 1, 1, 1, 1, 1, 1, 1, 1, 1, 1, 1, 1, 1, 1, 1,\n",
       "        1, 1, 1, 1, 1, 1, 1, 1, 1, 1, 1, 1, 1, 1, 1, 1, 1, 1, 1, 1, 1, 1, 1, 1,\n",
       "        1, 1, 1, 1, 1, 1, 1, 1, 1, 1, 1, 1, 1, 1, 1, 1, 1, 1, 1, 1, 1, 1, 1, 1,\n",
       "        1, 1, 1, 1, 1, 1, 1, 1, 1, 1, 1, 1, 1, 1, 1, 1, 1, 1, 1, 1, 1, 1, 1, 1,\n",
       "        1, 1, 1, 1, 1, 1, 1, 1, 1, 1, 1, 1, 1, 1, 1, 1, 1, 1, 1, 1, 1, 1, 1, 1,\n",
       "        1, 1, 1, 1, 1, 1, 1, 1, 1, 1, 1, 1, 1, 1, 1, 1, 1, 1, 1, 1, 1, 1, 1, 1,\n",
       "        1, 1, 1, 1, 1, 1, 1, 1, 1, 1, 1, 1, 1, 1, 1, 1, 1, 1, 1, 1, 1, 1, 1, 1,\n",
       "        1, 1, 1, 1, 1, 1, 1, 1, 1, 1, 1, 1, 1, 1, 1, 1, 1, 1, 1, 1, 1, 1, 1, 1,\n",
       "        1, 1, 1, 1, 1, 1, 1, 1, 1, 1, 1, 1, 1, 1, 1, 1, 1, 1, 1, 1, 1, 1, 1, 1,\n",
       "        1, 1, 1, 1, 1, 1, 1, 1, 1, 1, 1, 1, 1, 1, 1, 1, 1, 1, 1, 1, 1, 1, 1, 1,\n",
       "        1])"
      ]
     },
     "execution_count": 22,
     "metadata": {},
     "output_type": "execute_result"
    }
   ],
   "source": [
    "torch.max(y_pred.data, 1)[1]"
   ]
  },
  {
   "cell_type": "code",
   "execution_count": 23,
   "metadata": {},
   "outputs": [
    {
     "data": {
      "text/plain": [
       "torch.Size([120, 313, 20])"
      ]
     },
     "execution_count": 23,
     "metadata": {},
     "output_type": "execute_result"
    }
   ],
   "source": [
    "x_test = x_test.permute(0,2,1)\n",
    "x_test.shape"
   ]
  },
  {
   "cell_type": "code",
   "execution_count": 24,
   "metadata": {},
   "outputs": [
    {
     "name": "stdout",
     "output_type": "stream",
     "text": [
      "epoch : 0 accuracy : 0.6784344911575317\n",
      "epoch : 1 accuracy : 0.6812566518783569\n",
      "epoch : 2 accuracy : 0.6823216080665588\n",
      "epoch : 3 accuracy : 0.6826145052909851\n",
      "epoch : 4 accuracy : 0.5827209949493408\n",
      "epoch : 5 accuracy : 0.7701277732849121\n",
      "epoch : 6 accuracy : 0.825798749923706\n",
      "epoch : 7 accuracy : 0.8465654850006104\n",
      "epoch : 8 accuracy : 0.8557241559028625\n",
      "epoch : 9 accuracy : 0.861687958240509\n",
      "epoch : 10 accuracy : 0.8669062852859497\n",
      "epoch : 11 accuracy : 0.8712459802627563\n",
      "epoch : 12 accuracy : 0.8747603893280029\n",
      "epoch : 13 accuracy : 0.877103328704834\n",
      "epoch : 14 accuracy : 0.8793929815292358\n",
      "epoch : 15 accuracy : 0.8828541040420532\n",
      "epoch : 16 accuracy : 0.8844515681266785\n",
      "epoch : 17 accuracy : 0.886448323726654\n",
      "epoch : 18 accuracy : 0.8890042304992676\n",
      "epoch : 19 accuracy : 0.8906815648078918\n",
      "epoch : 20 accuracy : 0.8929446339607239\n",
      "epoch : 21 accuracy : 0.8948349356651306\n",
      "epoch : 22 accuracy : 0.8961395025253296\n",
      "epoch : 23 accuracy : 0.8968849778175354\n",
      "epoch : 24 accuracy : 0.8976304531097412\n",
      "epoch : 25 accuracy : 0.8979765772819519\n",
      "epoch : 26 accuracy : 0.898455798625946\n",
      "epoch : 27 accuracy : 0.8988817930221558\n",
      "epoch : 28 accuracy : 0.8998668789863586\n",
      "epoch : 29 accuracy : 0.9002395868301392\n",
      "epoch : 30 accuracy : 0.9002130031585693\n",
      "epoch : 31 accuracy : 0.9008519649505615\n",
      "epoch : 32 accuracy : 0.9014643430709839\n",
      "epoch : 33 accuracy : 0.9011448621749878\n",
      "epoch : 34 accuracy : 0.9009584784507751\n",
      "epoch : 35 accuracy : 0.9009318351745605\n",
      "epoch : 36 accuracy : 0.9014110565185547\n",
      "epoch : 37 accuracy : 0.9012779593467712\n",
      "epoch : 38 accuracy : 0.9010117053985596\n",
      "epoch : 39 accuracy : 0.9018104076385498\n",
      "epoch : 40 accuracy : 0.9024227857589722\n",
      "epoch : 41 accuracy : 0.9021831750869751\n",
      "epoch : 42 accuracy : 0.9025825262069702\n",
      "epoch : 43 accuracy : 0.9025825262069702\n",
      "epoch : 44 accuracy : 0.9030085206031799\n",
      "epoch : 45 accuracy : 0.9028487801551819\n",
      "epoch : 46 accuracy : 0.9032747745513916\n",
      "epoch : 47 accuracy : 0.9033812284469604\n",
      "epoch : 48 accuracy : 0.9037539958953857\n",
      "epoch : 49 accuracy : 0.9035942554473877\n",
      "epoch : 50 accuracy : 0.9038072228431702\n",
      "epoch : 51 accuracy : 0.9036208987236023\n",
      "epoch : 52 accuracy : 0.9034345149993896\n",
      "epoch : 53 accuracy : 0.9032214879989624\n",
      "epoch : 54 accuracy : 0.9032214879989624\n",
      "epoch : 55 accuracy : 0.9031949043273926\n",
      "epoch : 56 accuracy : 0.903407871723175\n",
      "epoch : 57 accuracy : 0.9029286503791809\n",
      "epoch : 58 accuracy : 0.9032747745513916\n",
      "epoch : 59 accuracy : 0.9029818773269653\n",
      "epoch : 60 accuracy : 0.9035676121711731\n",
      "epoch : 61 accuracy : 0.904552698135376\n",
      "epoch : 62 accuracy : 0.9039936065673828\n",
      "epoch : 63 accuracy : 0.9039669632911682\n",
      "epoch : 64 accuracy : 0.9039936065673828\n",
      "epoch : 65 accuracy : 0.9036741256713867\n",
      "epoch : 66 accuracy : 0.904472827911377\n",
      "epoch : 67 accuracy : 0.904472827911377\n",
      "epoch : 68 accuracy : 0.904712438583374\n",
      "epoch : 69 accuracy : 0.9048189520835876\n",
      "epoch : 70 accuracy : 0.9050852060317993\n",
      "epoch : 71 accuracy : 0.9058573246002197\n",
      "epoch : 72 accuracy : 0.9060969352722168\n",
      "epoch : 73 accuracy : 0.9058306813240051\n",
      "epoch : 74 accuracy : 0.9056975245475769\n",
      "epoch : 75 accuracy : 0.9059105515480042\n",
      "epoch : 76 accuracy : 0.9060170650482178\n",
      "epoch : 77 accuracy : 0.9061235189437866\n",
      "epoch : 78 accuracy : 0.9060969352722168\n",
      "epoch : 79 accuracy : 0.9057508111000061\n",
      "epoch : 80 accuracy : 0.9059371948242188\n",
      "epoch : 81 accuracy : 0.9058573246002197\n",
      "epoch : 82 accuracy : 0.9060170650482178\n",
      "epoch : 83 accuracy : 0.9058573246002197\n",
      "epoch : 84 accuracy : 0.9058839082717896\n",
      "epoch : 85 accuracy : 0.9057773947715759\n",
      "epoch : 86 accuracy : 0.9061768054962158\n",
      "epoch : 87 accuracy : 0.9062566757202148\n",
      "epoch : 88 accuracy : 0.9065228700637817\n",
      "epoch : 89 accuracy : 0.906815767288208\n",
      "epoch : 90 accuracy : 0.9069488644599915\n",
      "epoch : 91 accuracy : 0.9072151184082031\n",
      "epoch : 92 accuracy : 0.9074813723564148\n",
      "epoch : 93 accuracy : 0.9075080156326294\n",
      "epoch : 94 accuracy : 0.9075878858566284\n",
      "epoch : 95 accuracy : 0.9074015021324158\n",
      "epoch : 96 accuracy : 0.9074280858039856\n",
      "epoch : 97 accuracy : 0.9071086049079895\n",
      "epoch : 98 accuracy : 0.9066826701164246\n",
      "epoch : 99 accuracy : 0.9059105515480042\n"
     ]
    }
   ],
   "source": [
    "import time\n",
    "start_time = time.time()\n",
    "\n",
    "epochs = 100\n",
    "train_losses = []\n",
    "test_losses = []\n",
    "train_correct = []\n",
    "test_correct = []\n",
    "\n",
    "for e in range(epochs):\n",
    "    train_corr = 0\n",
    "    batch_corr = 0\n",
    "    \n",
    "    test_corr = 0\n",
    "    num_clips = x_train.shape[0]\n",
    "    num_frames = x_train.shape[1]\n",
    "    \n",
    "    epoch_loss = 0\n",
    "    \n",
    "    for i in range(x_train.shape[0]):\n",
    "        y_pred = model(x_train[i])\n",
    "        \n",
    "        \n",
    "        num_frames = x_train[i].shape[0]\n",
    "        y = y_train[i].repeat(num_frames,1)\n",
    "        \n",
    "        y = torch.max(y, 1)[1]\n",
    "        predicted = torch.max(y_pred, 1)[1]\n",
    "        loss = criterion(y_pred, y)\n",
    "        \n",
    "        optimizer.zero_grad()\n",
    "        loss.backward()\n",
    "        optimizer.step()\n",
    "                \n",
    "        batch_corr = (predicted == y).sum()\n",
    "        train_corr += batch_corr\n",
    "        \n",
    "        epoch_loss += loss.item()\n",
    "#         train_losses.append(loss)\n",
    "    train_losses.append(epoch_loss/ num_clips)\n",
    "    train_correct.append(train_corr/(num_clips*num_frames))\n",
    "    \n",
    "    with torch.no_grad():\n",
    "        l = 0\n",
    "        for i in range(x_test.shape[0]):\n",
    "            y_pred = model(x_test[i])\n",
    "            \n",
    "            num_frames = x_test[i].shape[0]\n",
    "            y = y_test[i].repeat(num_frames, 1)\n",
    "            y = torch.max(y, 1)[1]\n",
    "            \n",
    "            predicted = torch.max(y_pred,1)[1]\n",
    "            loss = criterion(y_pred, y)\n",
    "            \n",
    "            test_corr += (predicted == y).sum()\n",
    "            l += loss.item()\n",
    "        \n",
    "        test_losses.append(l / x_test.shape[0])\n",
    "        test_correct.append(test_corr/ (x_test.shape[0] * x_test.shape[1]))\n",
    "    print(f'epoch : {e} accuracy : {test_correct[-1]}')"
   ]
  },
  {
   "cell_type": "code",
   "execution_count": 25,
   "metadata": {},
   "outputs": [
    {
     "data": {
      "image/png": "[encoded data removed]",
      "text/plain": [
       "<Figure size 432x288 with 1 Axes>"
      ]
     },
     "metadata": {
      "needs_background": "light"
     },
     "output_type": "display_data"
    }
   ],
   "source": [
    "plt.plot(train_correct, label='training accuracy')\n",
    "plt.plot(test_correct, label='validation accuracy')\n",
    "plt.title('Accuracy at the end of each epoch')\n",
    "plt.legend();"
   ]
  },
  {
   "cell_type": "code",
   "execution_count": 26,
   "metadata": {},
   "outputs": [
    {
     "data": {
      "image/png": "[encoded data removed]",
      "text/plain": [
       "<Figure size 432x288 with 1 Axes>"
      ]
     },
     "metadata": {
      "needs_background": "light"
     },
     "output_type": "display_data"
    }
   ],
   "source": [
    "plt.plot(train_losses, label='training loss')\n",
    "plt.plot(test_losses, label='validation loss')\n",
    "plt.title('Loss at the end of each epoch')\n",
    "plt.legend();"
   ]
  },
  {
   "cell_type": "code",
   "execution_count": 27,
   "metadata": {},
   "outputs": [],
   "source": [
    "# torch.save(model.state_dict(), 'NN.pth')"
   ]
  },
  {
   "cell_type": "code",
   "execution_count": 28,
   "metadata": {},
   "outputs": [],
   "source": [
    "from sklearn.metrics import confusion_matrix"
   ]
  },
  {
   "cell_type": "code",
   "execution_count": 29,
   "metadata": {},
   "outputs": [
    {
     "name": "stdout",
     "output_type": "stream",
     "text": [
      "37560 37560\n"
     ]
    }
   ],
   "source": [
    "Y_pred = []\n",
    "Y = []\n",
    "\n",
    "with torch.no_grad():\n",
    "    l = 0\n",
    "    for i in range(x_test.shape[0]):\n",
    "        y_pred = model(x_test[i])\n",
    "            \n",
    "        num_frames = x_test[i].shape[0]\n",
    "        y = y_test[i].repeat(num_frames, 1)\n",
    "        y = torch.max(y, 1)[1]\n",
    "            \n",
    "        predicted = torch.max(y_pred,1)[1]\n",
    "        \n",
    "#         Y_pred = np.vstack((Y_pred, predicted))\n",
    "        Y_pred += (np.array(predicted)).tolist()\n",
    "        Y += (np.array(y)).tolist()\n",
    "\n",
    "print(len(Y), len(Y_pred))"
   ]
  },
  {
   "cell_type": "code",
   "execution_count": 30,
   "metadata": {},
   "outputs": [],
   "source": [
    "c = Y_pred"
   ]
  },
  {
   "cell_type": "code",
   "execution_count": 31,
   "metadata": {},
   "outputs": [
    {
     "data": {
      "text/plain": [
       "array([[13416,  2230,     4],\n",
       "       [ 1297, 10595,     2],\n",
       "       [    0,     1, 10015]])"
      ]
     },
     "execution_count": 31,
     "metadata": {},
     "output_type": "execute_result"
    }
   ],
   "source": [
    "cm = confusion_matrix(Y, Y_pred)\n",
    "cm"
   ]
  },
  {
   "cell_type": "code",
   "execution_count": 32,
   "metadata": {},
   "outputs": [
    {
     "data": {
      "text/plain": [
       "<AxesSubplot:>"
      ]
     },
     "execution_count": 32,
     "metadata": {},
     "output_type": "execute_result"
    },
    {
     "data": {
      "image/png": "[encoded data removed]",
      "text/plain": [
       "<Figure size 432x288 with 2 Axes>"
      ]
     },
     "metadata": {
      "needs_background": "light"
     },
     "output_type": "display_data"
    }
   ],
   "source": [
    "import seaborn as sns\n",
    "sns.heatmap(cm/np.sum(cm), annot=True, cmap='Blues')"
   ]
  },
  {
   "cell_type": "code",
   "execution_count": 33,
   "metadata": {},
   "outputs": [],
   "source": [
    "# loaded_model = NeuralNetwork()\n",
    "# loaded_model.load_state_dict(torch.load('NN.pth'))\n",
    "# loaded_model.eval()"
   ]
  },
  {
   "cell_type": "code",
   "execution_count": 34,
   "metadata": {},
   "outputs": [
    {
     "ename": "NameError",
     "evalue": "name 'loaded_model' is not defined",
     "output_type": "error",
     "traceback": [
      "\u001b[0;31m---------------------------------------------------------------------------\u001b[0m",
      "\u001b[0;31mNameError\u001b[0m                                 Traceback (most recent call last)",
      "\u001b[0;32m<ipython-input-34-643ae9f57224>\u001b[0m in \u001b[0;36m<module>\u001b[0;34m\u001b[0m\n\u001b[1;32m      5\u001b[0m     \u001b[0ml\u001b[0m \u001b[0;34m=\u001b[0m \u001b[0;36m0\u001b[0m\u001b[0;34m\u001b[0m\u001b[0;34m\u001b[0m\u001b[0m\n\u001b[1;32m      6\u001b[0m     \u001b[0;32mfor\u001b[0m \u001b[0mi\u001b[0m \u001b[0;32min\u001b[0m \u001b[0mrange\u001b[0m\u001b[0;34m(\u001b[0m\u001b[0mx_test\u001b[0m\u001b[0;34m.\u001b[0m\u001b[0mshape\u001b[0m\u001b[0;34m[\u001b[0m\u001b[0;36m0\u001b[0m\u001b[0;34m]\u001b[0m\u001b[0;34m)\u001b[0m\u001b[0;34m:\u001b[0m\u001b[0;34m\u001b[0m\u001b[0;34m\u001b[0m\u001b[0m\n\u001b[0;32m----> 7\u001b[0;31m         \u001b[0my_pred\u001b[0m \u001b[0;34m=\u001b[0m \u001b[0mloaded_model\u001b[0m\u001b[0;34m(\u001b[0m\u001b[0mx_test\u001b[0m\u001b[0;34m[\u001b[0m\u001b[0mi\u001b[0m\u001b[0;34m]\u001b[0m\u001b[0;34m)\u001b[0m\u001b[0;34m\u001b[0m\u001b[0;34m\u001b[0m\u001b[0m\n\u001b[0m\u001b[1;32m      8\u001b[0m \u001b[0;34m\u001b[0m\u001b[0m\n\u001b[1;32m      9\u001b[0m         \u001b[0mnum_frames\u001b[0m \u001b[0;34m=\u001b[0m \u001b[0mx_test\u001b[0m\u001b[0;34m[\u001b[0m\u001b[0mi\u001b[0m\u001b[0;34m]\u001b[0m\u001b[0;34m.\u001b[0m\u001b[0mshape\u001b[0m\u001b[0;34m[\u001b[0m\u001b[0;36m0\u001b[0m\u001b[0;34m]\u001b[0m\u001b[0;34m\u001b[0m\u001b[0;34m\u001b[0m\u001b[0m\n",
      "\u001b[0;31mNameError\u001b[0m: name 'loaded_model' is not defined"
     ]
    }
   ],
   "source": [
    "# Y_pred = []\n",
    "# Y = []\n",
    "\n",
    "# with torch.no_grad():\n",
    "#     l = 0\n",
    "#     for i in range(x_test.shape[0]):\n",
    "#         y_pred = loaded_model(x_test[i])\n",
    "            \n",
    "#         num_frames = x_test[i].shape[0]\n",
    "#         y = y_test[i].repeat(num_frames, 1)\n",
    "#         y = torch.max(y, 1)[1]\n",
    "            \n",
    "#         predicted = torch.max(y_pred,1)[1]\n",
    "        \n",
    "# #         Y_pred = np.vstack((Y_pred, predicted))\n",
    "#         Y_pred += (np.array(predicted)).tolist()\n",
    "#         Y += (np.array(y)).tolist()\n",
    "\n",
    "# print(len(Y), len(Y_pred))"
   ]
  }
 ],
 "metadata": {
  "kernelspec": {
   "display_name": "Python 3 (ipykernel)",
   "language": "python",
   "name": "python3"
  },
  "language_info": {
   "codemirror_mode": {
    "name": "ipython",
    "version": 3
   },
   "file_extension": ".py",
   "mimetype": "text/x-python",
   "name": "python",
   "nbconvert_exporter": "python",
   "pygments_lexer": "ipython3",
   "version": "3.6.9"
  }
 },
 "nbformat": 4,
 "nbformat_minor": 4
}
