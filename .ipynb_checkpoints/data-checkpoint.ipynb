{
 "cells": [
  {
   "cell_type": "code",
   "execution_count": 77,
   "metadata": {},
   "outputs": [],
   "source": [
    "import numpy as np\n",
    "import matplotlib.pyplot as plt\n",
    "import librosa"
   ]
  },
  {
   "cell_type": "code",
   "execution_count": 2,
   "metadata": {},
   "outputs": [],
   "source": [
    "from glob import glob\n",
    "def readDir(dirname, Fs=16000):\n",
    "    x = np.array([])\n",
    "    path = dirname + \"\\*.wav\"\n",
    "    folder = glob(path)\n",
    "    \n",
    "    # Loaded all clips in a 1D array\n",
    "    for file in folder:\n",
    "        x = np.append(x,load_audio(file, Fs))\n",
    "    \n",
    "    # Resized Array to separate 10s clips\n",
    "    L = x.size\n",
    "    Nsamples = 10*Fs\n",
    "    Nclips = int(L/(10*Fs))\n",
    "    x = np.reshape(x,(Nclips,Nsamples))\n",
    "\n",
    "\n",
    "    return x"
   ]
  },
  {
   "cell_type": "code",
   "execution_count": 3,
   "metadata": {},
   "outputs": [],
   "source": [
    "def load_audio(filename, Fs = 16000):\n",
    "\n",
    "    x, sr = librosa.load(filename, Fs)\n",
    "    \n",
    "    # Slicing it to make clips of 10s\n",
    "    clips = int(len(x)/(10*Fs))\n",
    "    \n",
    "    return x[0:clips*10*Fs]"
   ]
  },
  {
   "cell_type": "code",
   "execution_count": 91,
   "metadata": {},
   "outputs": [],
   "source": [
    "def create_Data(X, Y):\n",
    "    '''\n",
    "    Create mixed data from audio files\n",
    "\n",
    "    output is dataset + labels\n",
    "\n",
    "    x_out : N clips, each made from 2 different randomly selected sources\n",
    "\n",
    "    y_out_bool = 2N labels, 2 from each clip of type [clip_index, music=1 | speech=0, onset, offset]\n",
    "    '''\n",
    "    N = X.shape[0]\n",
    "    idx = np.random.permutation(N)\n",
    "\n",
    "    x = X[idx]\n",
    "    y_bool = Y[idx]    \n",
    "\n",
    "    if N%2:\n",
    "        N -= 1 # keeping N even for simplicity\n",
    "\n",
    "    x_out = np.zeros((N,160000))\n",
    "    y_out_bool = np.zeros((2*N, 4))\n",
    "    y_out_label = np.array([[0, 'text',0,0]]*2*N, dtype=object)\n",
    "\n",
    "    max_time = 4  # clips between 1-4 s\n",
    "    times = (max_time-1)*np.round(np.random.random(2*N),3)\n",
    "    times += 1\n",
    "\n",
    "    starts = np.round(np.random.random(2*N),3)\n",
    "    for i in range(N,2*N):\n",
    "        starts[i] += 5\n",
    "\n",
    "    ends = starts + times\n",
    "\n",
    "    frame_s = (starts*16000).astype(int)\n",
    "    frame_e = (ends*16000).astype(int)\n",
    "    \n",
    "    for i in range(N):\n",
    "        x_out[i, frame_s[i]:frame_e[i]] = x[i, frame_s[i]:frame_e[i]]\n",
    "        y_out_bool[2*i] = [i, y_bool[i,0], starts[i], ends[i]]\n",
    "\n",
    "        x_out[(i+1)%N, frame_s[N+i]:frame_e[N+i]] = x[i, frame_s[N+i]:frame_e[N+i]]\n",
    "        y_out_bool[2*((i+1)%N)+1] = [(i+1)%N, y_bool[i,0], starts[N+i], ends[N+i]]\n",
    "    \n",
    "\n",
    "    return x_out, y_out_bool\n",
    "       \n",
    "    "
   ]
  },
  {
   "cell_type": "code",
   "execution_count": 92,
   "metadata": {},
   "outputs": [],
   "source": [
    "if __name__==\"__main__\":\n",
    "    \n",
    "    Fs = 16000\n",
    "    \n",
    "    # Read audio\n",
    "    x_music = readDir('D:\\Acads\\EE603 MLSP\\Assignment 1\\music_try', Fs)    #change it as per your directory\n",
    "    x_speech = readDir('D:\\Acads\\EE603 MLSP\\Assignment 1\\speech_try', Fs)  #change it as per your directory\n",
    "    X = np.concatenate((x_music, x_speech))\n",
    "    \n",
    "    # Create labels\n",
    "    y_music = np.array([[1,0]]*len(x_music))\n",
    "    y_speech = np.array([[0,1]]*len(x_speech))\n",
    "    Y = np.concatenate((y_music, y_speech))\n",
    "\n",
    "    x, y = create_Data(X, Y)"
   ]
  }
 ],
 "metadata": {
  "interpreter": {
   "hash": "36e3ddf4b636e29db8a56d3b43165c2c03025e8fbcc68e1202188ef673b1258a"
  },
  "kernelspec": {
   "display_name": "Python 3.9.7 64-bit (windows store)",
   "language": "python",
   "name": "python3"
  },
  "language_info": {
   "codemirror_mode": {
    "name": "ipython",
    "version": 3
   },
   "file_extension": ".py",
   "mimetype": "text/x-python",
   "name": "python",
   "nbconvert_exporter": "python",
   "pygments_lexer": "ipython3",
   "version": "3.9.7"
  },
  "orig_nbformat": 4
 },
 "nbformat": 4,
 "nbformat_minor": 2
}
