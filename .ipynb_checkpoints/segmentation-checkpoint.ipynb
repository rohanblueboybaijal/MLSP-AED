{
 "cells": [
  {
   "cell_type": "code",
   "execution_count": 25,
   "id": "31b4eef1-b0ad-40c1-9b25-4e6c02208b66",
   "metadata": {},
   "outputs": [],
   "source": [
    "class Event:\n",
    "    def __init__(self):\n",
    "        self.label = 2\n",
    "        self.start = -1\n",
    "        self.end = -1\n",
    "\n",
    "class SegmentationClass:\n",
    "    def __init__(self):\n",
    "        self.labels = None\n",
    "#         self.labels+= labels.tolist() # first frame becomes a dummy \n",
    "#         self.a\n",
    "    \n",
    "#     def event_detection(self):\n",
    "#         prev_event = self.labels[0]\n",
    "#         events = []\n",
    "#         event = Event()\n",
    "#         event_in_progress = False\n",
    "        \n",
    "#         for i in range(1, len(self.labels)):\n",
    "#             print(i)\n",
    "#             if self.labels[i] != prev_event:\n",
    "#                 if prev_event == 2:\n",
    "#                     print(f'iteration {i} starting event {self.labels[i]}')\n",
    "#                     event.label = self.labels[i]\n",
    "#                     event.start = i-1\n",
    "#                     event_in_progress = True\n",
    "#                 else:\n",
    "#                     print(f'iteration {i} ending event {event.label}')\n",
    "#                     event.end = i-1\n",
    "#                     # Hop size is 512 => time resolution is 1/16000 * 512. Atleast 32 frames make up an event since the minimum time is 1 second\n",
    "#                     if(event.end - event.start >= 3): \n",
    "#                         events.append(copy.deepcopy(event))\n",
    "#                     event_in_progress =  False\n",
    "                \n",
    "#                 prev_event = self.labels[i]\n",
    "#         return events\n",
    "    def event_detection(self, labels):\n",
    "        self.labels = [2]\n",
    "        self.labels += labels.tolist() # first frame becomes a dummy \n",
    "        \n",
    "        print(self.labels)\n",
    "        print(labels)\n",
    "        \n",
    "        prev_event = self.labels[0]\n",
    "        events = []\n",
    "        event = Event()\n",
    "        event_in_progress = False\n",
    "        self.dilation()\n",
    "        print(self.labels)\n",
    "        \n",
    "        i = 1\n",
    "        while i < len(self.labels):\n",
    "            event.label = prev_event\n",
    "            event.start = i\n",
    "            while self.labels[i] == prev_event:\n",
    "                i+=1\n",
    "                if i >= len(self.labels):\n",
    "                    break\n",
    "            event.end = i-1\n",
    "            events.append(copy.deepcopy(event))\n",
    "            if i >= len(self.labels):\n",
    "                return events\n",
    "            prev_event = self.labels[i]\n",
    "        final_events = self.prune_events(events)\n",
    "        return final_events\n",
    "    \n",
    "    def prune_events(self, events, thresh=3):\n",
    "        final_events = []\n",
    "        for e in events:\n",
    "            if e.end - e.start + 1 >= thresh and e.label != 2:\n",
    "                print(f'e.end = {e.end} and e.start = {e.start}')\n",
    "                final_events.append(e)\n",
    "        return final_events\n",
    "    \n",
    "    def dilation(self, window=5):\n",
    "        offset = int(window/2)\n",
    "        L = len(self.labels)\n",
    "        i = 1 + offset\n",
    "        new_labels = copy.deepcopy(self.labels)\n",
    "        \n",
    "        while i < L - offset -1:\n",
    "            count = [0,0,0]\n",
    "            j = i - offset\n",
    "            while j <= i + offset:\n",
    "                count[self.labels[j]] +=1 \n",
    "                j+=1\n",
    "            new_labels[i] = count.index(max(count))\n",
    "        self.labels = new_labels"
   ]
  },
  {
   "cell_type": "code",
   "execution_count": 2,
   "id": "b2aaad99-00fe-4dbf-a583-530cf5596166",
   "metadata": {},
   "outputs": [],
   "source": [
    "import random\n",
    "import numpy as np\n",
    "import matplotlib.pyplot as plt\n",
    "import copy"
   ]
  },
  {
   "cell_type": "code",
   "execution_count": 9,
   "id": "e2e2b66e-69bf-48bd-b1b8-a68da03ffead",
   "metadata": {},
   "outputs": [],
   "source": [
    "predicted = np.random.randint(low=0, high=3, size=20)"
   ]
  },
  {
   "cell_type": "code",
   "execution_count": 10,
   "id": "72dd08b3-dcef-4857-b0f3-6287cc999cda",
   "metadata": {},
   "outputs": [
    {
     "name": "stdout",
     "output_type": "stream",
     "text": [
      "[0 1 2 1 1 1 2 0 0 1 1 0 2 1 1 1 2 1 2 0]\n"
     ]
    }
   ],
   "source": [
    "print(predicted)"
   ]
  },
  {
   "cell_type": "code",
   "execution_count": 20,
   "id": "e122c216-9b62-4096-a801-686156fad74d",
   "metadata": {},
   "outputs": [],
   "source": [
    "segmentationClass = SegmentationClass()"
   ]
  },
  {
   "cell_type": "code",
   "execution_count": 24,
   "id": "1a3d24e1-89f9-4e65-a192-2ca960d274a0",
   "metadata": {},
   "outputs": [
    {
     "name": "stdout",
     "output_type": "stream",
     "text": [
      "[2, 0, 4, 8, 4, 4, 4, 8, 0, 0, 4, 4, 0, 8, 4, 4, 4, 8, 4, 8, 0]\n"
     ]
    },
    {
     "ename": "IndexError",
     "evalue": "list index out of range",
     "output_type": "error",
     "traceback": [
      "\u001b[0;31m---------------------------------------------------------------------------\u001b[0m",
      "\u001b[0;31mIndexError\u001b[0m                                Traceback (most recent call last)",
      "\u001b[0;32m<ipython-input-24-136379e09783>\u001b[0m in \u001b[0;36m<module>\u001b[0;34m\u001b[0m\n\u001b[0;32m----> 1\u001b[0;31m \u001b[0mevents\u001b[0m \u001b[0;34m=\u001b[0m \u001b[0msegmentationClass\u001b[0m\u001b[0;34m.\u001b[0m\u001b[0mevent_detection\u001b[0m\u001b[0;34m(\u001b[0m\u001b[0mpredicted\u001b[0m\u001b[0;34m)\u001b[0m\u001b[0;34m\u001b[0m\u001b[0;34m\u001b[0m\u001b[0m\n\u001b[0m",
      "\u001b[0;32m<ipython-input-19-8b881b93e7ad>\u001b[0m in \u001b[0;36mevent_detection\u001b[0;34m(self, labels)\u001b[0m\n\u001b[1;32m     44\u001b[0m         \u001b[0mevent\u001b[0m \u001b[0;34m=\u001b[0m \u001b[0mEvent\u001b[0m\u001b[0;34m(\u001b[0m\u001b[0;34m)\u001b[0m\u001b[0;34m\u001b[0m\u001b[0;34m\u001b[0m\u001b[0m\n\u001b[1;32m     45\u001b[0m         \u001b[0mevent_in_progress\u001b[0m \u001b[0;34m=\u001b[0m \u001b[0;32mFalse\u001b[0m\u001b[0;34m\u001b[0m\u001b[0;34m\u001b[0m\u001b[0m\n\u001b[0;32m---> 46\u001b[0;31m         \u001b[0mself\u001b[0m\u001b[0;34m.\u001b[0m\u001b[0mdilation\u001b[0m\u001b[0;34m(\u001b[0m\u001b[0;34m)\u001b[0m\u001b[0;34m\u001b[0m\u001b[0;34m\u001b[0m\u001b[0m\n\u001b[0m\u001b[1;32m     47\u001b[0m         \u001b[0mprint\u001b[0m\u001b[0;34m(\u001b[0m\u001b[0mself\u001b[0m\u001b[0;34m.\u001b[0m\u001b[0mlabels\u001b[0m\u001b[0;34m)\u001b[0m\u001b[0;34m\u001b[0m\u001b[0;34m\u001b[0m\u001b[0m\n\u001b[1;32m     48\u001b[0m \u001b[0;34m\u001b[0m\u001b[0m\n",
      "\u001b[0;32m<ipython-input-19-8b881b93e7ad>\u001b[0m in \u001b[0;36mdilation\u001b[0;34m(self, window)\u001b[0m\n\u001b[1;32m     81\u001b[0m             \u001b[0mj\u001b[0m \u001b[0;34m=\u001b[0m \u001b[0mi\u001b[0m \u001b[0;34m-\u001b[0m \u001b[0moffset\u001b[0m\u001b[0;34m\u001b[0m\u001b[0;34m\u001b[0m\u001b[0m\n\u001b[1;32m     82\u001b[0m             \u001b[0;32mwhile\u001b[0m \u001b[0mj\u001b[0m \u001b[0;34m<=\u001b[0m \u001b[0mi\u001b[0m \u001b[0;34m+\u001b[0m \u001b[0moffset\u001b[0m\u001b[0;34m:\u001b[0m\u001b[0;34m\u001b[0m\u001b[0;34m\u001b[0m\u001b[0m\n\u001b[0;32m---> 83\u001b[0;31m                 \u001b[0mcount\u001b[0m\u001b[0;34m[\u001b[0m\u001b[0mself\u001b[0m\u001b[0;34m.\u001b[0m\u001b[0mlabels\u001b[0m\u001b[0;34m[\u001b[0m\u001b[0mj\u001b[0m\u001b[0;34m]\u001b[0m\u001b[0;34m]\u001b[0m \u001b[0;34m+=\u001b[0m\u001b[0;36m1\u001b[0m\u001b[0;34m\u001b[0m\u001b[0;34m\u001b[0m\u001b[0m\n\u001b[0m\u001b[1;32m     84\u001b[0m                 \u001b[0mj\u001b[0m\u001b[0;34m+=\u001b[0m\u001b[0;36m1\u001b[0m\u001b[0;34m\u001b[0m\u001b[0;34m\u001b[0m\u001b[0m\n\u001b[1;32m     85\u001b[0m             \u001b[0mnew_labels\u001b[0m\u001b[0;34m[\u001b[0m\u001b[0mi\u001b[0m\u001b[0;34m]\u001b[0m \u001b[0;34m=\u001b[0m \u001b[0mcount\u001b[0m\u001b[0;34m.\u001b[0m\u001b[0mindex\u001b[0m\u001b[0;34m(\u001b[0m\u001b[0mmax\u001b[0m\u001b[0;34m(\u001b[0m\u001b[0mcount\u001b[0m\u001b[0;34m)\u001b[0m\u001b[0;34m)\u001b[0m\u001b[0;34m\u001b[0m\u001b[0;34m\u001b[0m\u001b[0m\n",
      "\u001b[0;31mIndexError\u001b[0m: list index out of range"
     ]
    }
   ],
   "source": [
    "events = segmentationClass.event_detection(predicted)"
   ]
  },
  {
   "cell_type": "code",
   "execution_count": 124,
   "id": "04f45da9-c26a-4df0-8c11-ae95b8fdf0b3",
   "metadata": {},
   "outputs": [
    {
     "name": "stdout",
     "output_type": "stream",
     "text": [
      "2 : 1 - 1\n",
      "1 : 2 - 2\n",
      "0 : 3 - 4\n",
      "2 : 5 - 5\n",
      "0 : 6 - 6\n",
      "1 : 7 - 7\n",
      "0 : 8 - 10\n",
      "1 : 11 - 11\n",
      "0 : 12 - 15\n",
      "1 : 16 - 16\n",
      "0 : 17 - 17\n",
      "1 : 18 - 18\n",
      "0 : 19 - 19\n",
      "1 : 20 - 20\n"
     ]
    }
   ],
   "source": [
    "for e in events:\n",
    "    print(f'{e.label} : {e.start} - {e.end}')"
   ]
  },
  {
   "cell_type": "code",
   "execution_count": 125,
   "id": "4bc0ad32-7db3-4ea0-9344-2265d1b4f0b6",
   "metadata": {},
   "outputs": [
    {
     "name": "stdout",
     "output_type": "stream",
     "text": [
      "e.end = 10 and e.start = 8\n",
      "e.end = 15 and e.start = 12\n"
     ]
    }
   ],
   "source": [
    "final_events = segmentationClass.prune_events(events, 3)"
   ]
  },
  {
   "cell_type": "code",
   "execution_count": 126,
   "id": "78cb2c48-4db9-4e1d-b6b5-567e4db4ab39",
   "metadata": {},
   "outputs": [
    {
     "name": "stdout",
     "output_type": "stream",
     "text": [
      "0 : 8 - 10\n",
      "0 : 12 - 15\n"
     ]
    }
   ],
   "source": [
    "for e in final_events:\n",
    "    print(f'{e.label} : {e.start} - {e.end}')"
   ]
  }
 ],
 "metadata": {
  "kernelspec": {
   "display_name": "Python 3 (ipykernel)",
   "language": "python",
   "name": "python3"
  },
  "language_info": {
   "codemirror_mode": {
    "name": "ipython",
    "version": 3
   },
   "file_extension": ".py",
   "mimetype": "text/x-python",
   "name": "python",
   "nbconvert_exporter": "python",
   "pygments_lexer": "ipython3",
   "version": "3.6.9"
  }
 },
 "nbformat": 4,
 "nbformat_minor": 5
}
