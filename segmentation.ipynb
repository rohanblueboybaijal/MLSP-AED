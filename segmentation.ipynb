{
 "cells": [
  {
   "cell_type": "code",
   "execution_count": 45,
   "id": "b2aaad99-00fe-4dbf-a583-530cf5596166",
   "metadata": {},
   "outputs": [],
   "source": [
    "import random\n",
    "import numpy as np\n",
    "import matplotlib.pyplot as plt\n",
    "import copy"
   ]
  },
  {
   "cell_type": "code",
   "execution_count": 51,
   "id": "d6fbd0b8-a785-4c94-ba14-377be4a89f45",
   "metadata": {},
   "outputs": [],
   "source": [
    "class Event:\n",
    "    def __init__(self):\n",
    "        self.label = 2\n",
    "        self.start = -1\n",
    "        self.end = -1\n",
    "\n",
    "class SegmentationClass:\n",
    "    def __init__(self):\n",
    "        self.labels = None\n",
    "\n",
    "    def event_detection(self, labels):\n",
    "        print(labels)\n",
    "        self.labels = [2]\n",
    "        self.labels += labels.tolist() # first frame becomes a dummy \n",
    "        print(self.labels)\n",
    "        \n",
    "        \n",
    "        prev_event = self.labels[0]\n",
    "        events = []\n",
    "        event = Event()\n",
    "        event_in_progress = False\n",
    "        self.dilation()\n",
    "        print(self.labels)\n",
    "        \n",
    "        i = 1\n",
    "        while i < len(self.labels):\n",
    "            event.label = prev_event\n",
    "            event.start = i\n",
    "            while self.labels[i] == prev_event:\n",
    "                i+=1\n",
    "                if i >= len(self.labels):\n",
    "                    break\n",
    "            event.end = i-1\n",
    "            events.append(copy.deepcopy(event))\n",
    "            if i >= len(self.labels):\n",
    "                break\n",
    "            prev_event = self.labels[i]\n",
    "\n",
    "        final_events = self.prune_events(events)\n",
    "        return final_events\n",
    "    \n",
    "    def prune_events(self, events, thresh=3):\n",
    "        final_events = []\n",
    "        for e in events:\n",
    "#             print(\"pruning events\")\n",
    "            if e.end - e.start + 1 >= thresh and e.label != 2:\n",
    "#                 print(f'e.end = {e.end} and e.start = {e.start}')\n",
    "                final_events.append(e)\n",
    "        return final_events\n",
    "    \n",
    "    def dilation(self, window=5):\n",
    "        offset = int(window/2)\n",
    "        L = len(self.labels)\n",
    "        i = 1 + offset\n",
    "        new_labels = copy.deepcopy(self.labels)\n",
    "        \n",
    "        while i < L - offset -1:\n",
    "            count = [0,0,0]\n",
    "            j = i - offset\n",
    "            while j <= i + offset:\n",
    "                count[self.labels[j]] +=1 \n",
    "                j+=1\n",
    "            new_labels[i] = count.index(max(count))\n",
    "            i+=1\n",
    "        self.labels = new_labels"
   ]
  },
  {
   "cell_type": "code",
   "execution_count": 47,
   "id": "e2e2b66e-69bf-48bd-b1b8-a68da03ffead",
   "metadata": {},
   "outputs": [],
   "source": [
    "predicted = np.random.randint(low=0, high=3, size=20)"
   ]
  },
  {
   "cell_type": "code",
   "execution_count": 48,
   "id": "72dd08b3-dcef-4857-b0f3-6287cc999cda",
   "metadata": {},
   "outputs": [
    {
     "name": "stdout",
     "output_type": "stream",
     "text": [
      "[1 2 1 1 2 2 0 0 2 2 1 1 2 2 0 0 0 0 0 1]\n"
     ]
    }
   ],
   "source": [
    "print(predicted)"
   ]
  },
  {
   "cell_type": "code",
   "execution_count": 52,
   "id": "e122c216-9b62-4096-a801-686156fad74d",
   "metadata": {},
   "outputs": [],
   "source": [
    "segmentationClass = SegmentationClass()"
   ]
  },
  {
   "cell_type": "code",
   "execution_count": 53,
   "id": "1a3d24e1-89f9-4e65-a192-2ca960d274a0",
   "metadata": {},
   "outputs": [
    {
     "name": "stdout",
     "output_type": "stream",
     "text": [
      "[1 2 1 1 2 2 0 0 2 2 1 1 2 2 0 0 0 0 0 1]\n",
      "[2, 1, 2, 1, 1, 2, 2, 0, 0, 2, 2, 1, 1, 2, 2, 0, 0, 0, 0, 0, 1]\n",
      "[2, 1, 2, 1, 2, 1, 0, 2, 2, 0, 1, 2, 2, 1, 0, 0, 0, 0, 0, 0, 1]\n"
     ]
    }
   ],
   "source": [
    "events = segmentationClass.event_detection(predicted)"
   ]
  },
  {
   "cell_type": "code",
   "execution_count": 54,
   "id": "04f45da9-c26a-4df0-8c11-ae95b8fdf0b3",
   "metadata": {},
   "outputs": [
    {
     "name": "stdout",
     "output_type": "stream",
     "text": [
      "0 : 14 - 19\n"
     ]
    }
   ],
   "source": [
    "for e in events:\n",
    "    print(f'{e.label} : {e.start} - {e.end}')"
   ]
  },
  {
   "cell_type": "code",
   "execution_count": 125,
   "id": "4bc0ad32-7db3-4ea0-9344-2265d1b4f0b6",
   "metadata": {},
   "outputs": [
    {
     "name": "stdout",
     "output_type": "stream",
     "text": [
      "e.end = 10 and e.start = 8\n",
      "e.end = 15 and e.start = 12\n"
     ]
    }
   ],
   "source": [
    "final_events = segmentationClass.prune_events(events, 3)"
   ]
  },
  {
   "cell_type": "code",
   "execution_count": 126,
   "id": "78cb2c48-4db9-4e1d-b6b5-567e4db4ab39",
   "metadata": {},
   "outputs": [
    {
     "name": "stdout",
     "output_type": "stream",
     "text": [
      "0 : 8 - 10\n",
      "0 : 12 - 15\n"
     ]
    }
   ],
   "source": [
    "for e in final_events:\n",
    "    print(f'{e.label} : {e.start} - {e.end}')"
   ]
  }
 ],
 "metadata": {
  "kernelspec": {
   "display_name": "Python 3 (ipykernel)",
   "language": "python",
   "name": "python3"
  },
  "language_info": {
   "codemirror_mode": {
    "name": "ipython",
    "version": 3
   },
   "file_extension": ".py",
   "mimetype": "text/x-python",
   "name": "python",
   "nbconvert_exporter": "python",
   "pygments_lexer": "ipython3",
   "version": "3.6.9"
  }
 },
 "nbformat": 4,
 "nbformat_minor": 5
}
